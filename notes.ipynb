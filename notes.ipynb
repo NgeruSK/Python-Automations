{
 "cells": [
  {
   "cell_type": "markdown",
   "metadata": {},
   "source": [
    "# The preface "
   ]
  },
  {
   "cell_type": "markdown",
   "metadata": {},
   "source": [
    "When I doing [google hashcode 2018](https://codingcompetitions.withgoogle.com/hashcode/archive), I found that I could not finished the task in 3 hours. It's so hard for me.\n",
    "\n",
    "The first thing that drags me is that I do not know how to realize a functionality in a decent way. I just spend 5 hours to write a helper function into the loop. The second thing is that I do not really know whether I should use numpy-array,list or dict to store my objects. The third thing is that I do not good at debug my program. Although I write my ideas on a blank paper and then coding it. There are still several bugs in the first draft code. I spend a little time to debug by code.\n",
    "\n",
    "After I finished my code, I go the rank board of hashcode 2018. I found that I did not give a good solution. I only care about coding and did not really focus on math. The NP-hard problem need a lot of mathmatic knowledge to give a estimated solution. I did not good at optimsing and algorithms. I watch a winners' video on Youtube. He is a Russian and he spend all his time to mathmatic part of the question and do not feel any impeded by coding part. Which makes me feel that I should code more and let code by my natural. If I am really good at coding, I think I can focus more on math when solving the problem.\n",
    "\n",
    "To achieve a better understanding of python standard library, I decided to read the book: **Automate The Broing Stuff with Python**. I think I can know what functionality can be easily realized by standard library and what is not."
   ]
  },
  {
   "cell_type": "markdown",
   "metadata": {
    "ExecuteTime": {
     "end_time": "2020-01-27T03:05:56.136259Z",
     "start_time": "2020-01-27T03:05:56.133295Z"
    }
   },
   "source": [
    "# Part 1: Python Programming Basics \n",
    "## Python Basics"
   ]
  },
  {
   "cell_type": "markdown",
   "metadata": {
    "ExecuteTime": {
     "end_time": "2020-01-27T03:11:45.849032Z",
     "start_time": "2020-01-27T03:11:45.846038Z"
    }
   },
   "source": [
    "### Entreing Expressions into the Interactive Shell\n",
    "\n",
    "| Operator |             Operation             | Example | Evaluates to |\n",
    "|:--------:|:---------------------------------:|:-------:|:------------:|\n",
    "|    **    |              Exponent             | 2 ** 3  |       8      |\n",
    "|     %    |         Modeulus/remainder        |  22 % 8 |       6      |\n",
    "|    //    | Integer division/floored quotient |  22//8  |       2      |\n",
    "|     /    |              Division             |   22/8  |     2.75     |\n",
    "|     *    |           Multiplication          |   3*5   |      15      |\n",
    "|     -    |            Substraction           |   5-2   |       3      |\n",
    "|     +    |              Addition             |   2+2   |       4      |"
   ]
  },
  {
   "cell_type": "markdown",
   "metadata": {
    "ExecuteTime": {
     "end_time": "2020-01-27T03:26:17.592346Z",
     "start_time": "2020-01-27T03:26:17.480645Z"
    }
   },
   "source": [
    "### The Integer,Floating-Point, and String Data Types"
   ]
  },
  {
   "cell_type": "markdown",
   "metadata": {},
   "source": [
    "### String Concatenation and Replication"
   ]
  },
  {
   "cell_type": "code",
   "execution_count": 4,
   "metadata": {
    "ExecuteTime": {
     "end_time": "2020-01-27T03:27:47.879330Z",
     "start_time": "2020-01-27T03:27:47.872346Z"
    }
   },
   "outputs": [
    {
     "data": {
      "text/plain": [
       "'AliceBob'"
      ]
     },
     "execution_count": 4,
     "metadata": {},
     "output_type": "execute_result"
    }
   ],
   "source": [
    "'Alice'+'Bob'"
   ]
  },
  {
   "cell_type": "code",
   "execution_count": 5,
   "metadata": {
    "ExecuteTime": {
     "end_time": "2020-01-27T03:27:57.823253Z",
     "start_time": "2020-01-27T03:27:57.818245Z"
    }
   },
   "outputs": [
    {
     "ename": "SyntaxError",
     "evalue": "can't assign to literal (<ipython-input-5-701b0ef864ef>, line 1)",
     "output_type": "error",
     "traceback": [
      "\u001b[1;36m  File \u001b[1;32m\"<ipython-input-5-701b0ef864ef>\"\u001b[1;36m, line \u001b[1;32m1\u001b[0m\n\u001b[1;33m    'Alice'=42\u001b[0m\n\u001b[1;37m              ^\u001b[0m\n\u001b[1;31mSyntaxError\u001b[0m\u001b[1;31m:\u001b[0m can't assign to literal\n"
     ]
    }
   ],
   "source": [
    "'Alice'=42"
   ]
  },
  {
   "cell_type": "code",
   "execution_count": 6,
   "metadata": {
    "ExecuteTime": {
     "end_time": "2020-01-27T03:28:44.327387Z",
     "start_time": "2020-01-27T03:28:44.324367Z"
    }
   },
   "outputs": [
    {
     "data": {
      "text/plain": [
       "'AliceAliceAliceAliceAlice'"
      ]
     },
     "execution_count": 6,
     "metadata": {},
     "output_type": "execute_result"
    }
   ],
   "source": [
    "'Alice'*5"
   ]
  },
  {
   "cell_type": "code",
   "execution_count": 7,
   "metadata": {
    "ExecuteTime": {
     "end_time": "2020-01-27T03:28:53.077738Z",
     "start_time": "2020-01-27T03:28:53.074745Z"
    }
   },
   "outputs": [
    {
     "ename": "SyntaxError",
     "evalue": "invalid syntax (<ipython-input-7-b19b732a0e50>, line 1)",
     "output_type": "error",
     "traceback": [
      "\u001b[1;36m  File \u001b[1;32m\"<ipython-input-7-b19b732a0e50>\"\u001b[1;36m, line \u001b[1;32m1\u001b[0m\n\u001b[1;33m    'Alice'Bob'\u001b[0m\n\u001b[1;37m             ^\u001b[0m\n\u001b[1;31mSyntaxError\u001b[0m\u001b[1;31m:\u001b[0m invalid syntax\n"
     ]
    }
   ],
   "source": [
    "'Alice'Bob'"
   ]
  },
  {
   "cell_type": "code",
   "execution_count": 9,
   "metadata": {
    "ExecuteTime": {
     "end_time": "2020-01-27T03:29:03.311468Z",
     "start_time": "2020-01-27T03:29:03.306441Z"
    }
   },
   "outputs": [
    {
     "ename": "TypeError",
     "evalue": "can't multiply sequence by non-int of type 'float'",
     "output_type": "error",
     "traceback": [
      "\u001b[1;31m---------------------------------------------------------------------------\u001b[0m",
      "\u001b[1;31mTypeError\u001b[0m                                 Traceback (most recent call last)",
      "\u001b[1;32m<ipython-input-9-43325524c797>\u001b[0m in \u001b[0;36m<module>\u001b[1;34m\u001b[0m\n\u001b[1;32m----> 1\u001b[1;33m \u001b[1;34m'Alice'\u001b[0m \u001b[1;33m*\u001b[0m \u001b[1;36m5.0\u001b[0m\u001b[1;33m\u001b[0m\u001b[1;33m\u001b[0m\u001b[0m\n\u001b[0m",
      "\u001b[1;31mTypeError\u001b[0m: can't multiply sequence by non-int of type 'float'"
     ]
    }
   ],
   "source": [
    "'Alice' * 5.0"
   ]
  },
  {
   "cell_type": "markdown",
   "metadata": {},
   "source": [
    "### Storing Values in Variables\n",
    "\n",
    "A _variable_ is like a box in the computer's memory where you can store a single value. If you wan to use the result of an evaluated expression later in your program, you can save it inside a variable."
   ]
  },
  {
   "cell_type": "markdown",
   "metadata": {
    "ExecuteTime": {
     "end_time": "2020-01-27T03:52:09.629559Z",
     "start_time": "2020-01-27T03:52:09.626540Z"
    }
   },
   "source": [
    "__Assignment statements__"
   ]
  },
  {
   "cell_type": "code",
   "execution_count": 10,
   "metadata": {
    "ExecuteTime": {
     "end_time": "2020-01-27T03:50:09.600079Z",
     "start_time": "2020-01-27T03:50:09.597083Z"
    }
   },
   "outputs": [],
   "source": [
    "spam = 42\n",
    "eggs = 2"
   ]
  },
  {
   "cell_type": "code",
   "execution_count": 12,
   "metadata": {
    "ExecuteTime": {
     "end_time": "2020-01-27T03:50:28.935088Z",
     "start_time": "2020-01-27T03:50:28.930100Z"
    }
   },
   "outputs": [
    {
     "data": {
      "text/plain": [
       "(44, 86)"
      ]
     },
     "execution_count": 12,
     "metadata": {},
     "output_type": "execute_result"
    }
   ],
   "source": [
    "spam + eggs,spam + eggs + spam"
   ]
  },
  {
   "cell_type": "code",
   "execution_count": 13,
   "metadata": {
    "ExecuteTime": {
     "end_time": "2020-01-27T03:50:40.909261Z",
     "start_time": "2020-01-27T03:50:40.906246Z"
    }
   },
   "outputs": [
    {
     "data": {
      "text/plain": [
       "44"
      ]
     },
     "execution_count": 13,
     "metadata": {},
     "output_type": "execute_result"
    }
   ],
   "source": [
    "spam = spam + 2\n",
    "spam"
   ]
  },
  {
   "cell_type": "markdown",
   "metadata": {},
   "source": [
    "Overwriting a variable"
   ]
  },
  {
   "cell_type": "code",
   "execution_count": 20,
   "metadata": {
    "ExecuteTime": {
     "end_time": "2020-01-27T03:51:28.925024Z",
     "start_time": "2020-01-27T03:51:28.923004Z"
    }
   },
   "outputs": [
    {
     "data": {
      "text/plain": [
       "'Hello'"
      ]
     },
     "execution_count": 20,
     "metadata": {},
     "output_type": "execute_result"
    }
   ],
   "source": [
    "spam = 'Hello'\n",
    "spam"
   ]
  },
  {
   "cell_type": "code",
   "execution_count": 26,
   "metadata": {
    "ExecuteTime": {
     "end_time": "2020-01-27T04:15:16.203312Z",
     "start_time": "2020-01-27T04:15:16.200328Z"
    }
   },
   "outputs": [
    {
     "data": {
      "text/plain": [
       "'Goodbye'"
      ]
     },
     "execution_count": 26,
     "metadata": {},
     "output_type": "execute_result"
    }
   ],
   "source": [
    "spam = 'Goodbye'\n",
    "spam"
   ]
  },
  {
   "cell_type": "markdown",
   "metadata": {},
   "source": [
    "### Variable names\n",
    "\n",
    "1. It can be only one word\n",
    "2. It can use only letters, numbers and the underscore(_) character\n",
    "3. It can't begin with a number"
   ]
  },
  {
   "cell_type": "markdown",
   "metadata": {},
   "source": [
    "| Valid variable names | Invalid variable names                                 |\n",
    "|----------------------|--------------------------------------------------------|\n",
    "| balance              | current-balance (hyphens are not allowed)              |\n",
    "| currentBalance       | current balance (spaces are not allowed)               |\n",
    "| current_balance      | 4account (can't begin with a number)                   |\n",
    "| _spam                | 42 (can't begin with a number)                         |\n",
    "| SPAM                 | total_\\\\$um (special characters like \\\\$ are not allowed) |\n",
    "| account4             | 'hello' (special characters like ' are not allowed)    |"
   ]
  },
  {
   "cell_type": "markdown",
   "metadata": {
    "ExecuteTime": {
     "end_time": "2020-01-27T04:01:37.277242Z",
     "start_time": "2020-01-27T04:01:37.274222Z"
    }
   },
   "source": [
    "Variable names are case-sensitive, meaning that spam,SPAM,Span and sPam are four differnet variables. It is a Python convention to start your variables with a lowercase letter.\n",
    "\n",
    "This book uses camelcase for variable names instead of underscores; that is , variables `lookLikeThis` instead of `looking_like_this`. Some experienced programmers may point out that the official Python code style.,PEP 8, says that underscores should be used.\n",
    "\n",
    "A good variable name describes the data it contains. It will make your code more readable."
   ]
  },
  {
   "cell_type": "markdown",
   "metadata": {},
   "source": [
    "### Your First Program"
   ]
  },
  {
   "cell_type": "code",
   "execution_count": 46,
   "metadata": {
    "ExecuteTime": {
     "end_time": "2020-01-27T06:03:25.289150Z",
     "start_time": "2020-01-27T06:03:21.336540Z"
    }
   },
   "outputs": [
    {
     "name": "stdout",
     "output_type": "stream",
     "text": [
      "hello world!\n",
      "What is your name?\n",
      "Travis\n",
      "It is good to meet you, Travis\n",
      "6\n",
      "What is your age?\n",
      "12\n",
      "You will be 13 in a year,\n"
     ]
    }
   ],
   "source": [
    "%run ./ch1/ch1.ipynb"
   ]
  },
  {
   "cell_type": "markdown",
   "metadata": {
    "ExecuteTime": {
     "end_time": "2020-01-27T05:37:24.148628Z",
     "start_time": "2020-01-27T05:37:24.144619Z"
    }
   },
   "source": [
    "Python ignores comments, and you can use them to write notes or remind your self what hte code is tring to do.Any text for the rest of the line following a hash mark(#) is a part of a comment. \n",
    "\n",
    "Sometimes, programmers will put a # in front of a line of code to temporarily remove it while testiing a pogram. This is called __commenting out code__, and it can be useful when you're trying to figure out why a program doesnt't work. YOu can remove the # when you are ready to put the line back in.\n",
    "\n",
    "Python can not __concatenate__ different types of objects. For instance, Python do not know how to evaluate `5 + '1'`. However, we can use `int`,`str` and `float` functions to change the type of variables. Then, we can operate on variables with the same type."
   ]
  },
  {
   "cell_type": "code",
   "execution_count": 47,
   "metadata": {
    "ExecuteTime": {
     "end_time": "2020-01-27T06:20:20.229377Z",
     "start_time": "2020-01-27T06:20:20.223386Z"
    }
   },
   "outputs": [
    {
     "ename": "TypeError",
     "evalue": "unsupported operand type(s) for +: 'int' and 'str'",
     "output_type": "error",
     "traceback": [
      "\u001b[1;31m---------------------------------------------------------------------------\u001b[0m",
      "\u001b[1;31mTypeError\u001b[0m                                 Traceback (most recent call last)",
      "\u001b[1;32m<ipython-input-47-eca5068b429e>\u001b[0m in \u001b[0;36m<module>\u001b[1;34m\u001b[0m\n\u001b[1;32m----> 1\u001b[1;33m \u001b[1;36m5\u001b[0m \u001b[1;33m+\u001b[0m \u001b[1;34m'1'\u001b[0m\u001b[1;33m\u001b[0m\u001b[1;33m\u001b[0m\u001b[0m\n\u001b[0m",
      "\u001b[1;31mTypeError\u001b[0m: unsupported operand type(s) for +: 'int' and 'str'"
     ]
    }
   ],
   "source": [
    "5 + '1'"
   ]
  },
  {
   "cell_type": "code",
   "execution_count": 48,
   "metadata": {
    "ExecuteTime": {
     "end_time": "2020-01-27T06:21:24.698310Z",
     "start_time": "2020-01-27T06:21:24.693324Z"
    }
   },
   "outputs": [
    {
     "data": {
      "text/plain": [
       "6"
      ]
     },
     "execution_count": 48,
     "metadata": {},
     "output_type": "execute_result"
    }
   ],
   "source": [
    "5 + int('1')"
   ]
  },
  {
   "cell_type": "markdown",
   "metadata": {},
   "source": [
    "We can use int to round a floating-point number down"
   ]
  },
  {
   "cell_type": "code",
   "execution_count": 50,
   "metadata": {
    "ExecuteTime": {
     "end_time": "2020-01-27T06:38:03.449576Z",
     "start_time": "2020-01-27T06:38:03.445618Z"
    }
   },
   "outputs": [
    {
     "data": {
      "text/plain": [
       "7"
      ]
     },
     "execution_count": 50,
     "metadata": {},
     "output_type": "execute_result"
    }
   ],
   "source": [
    "int(7.7)"
   ]
  },
  {
   "cell_type": "markdown",
   "metadata": {},
   "source": [
    "### Practice Questions\n",
    "\n",
    "- 4. What is an expression made up of? What do all expressions do? What is the similarity and difference between `expression` and `statement`?\n",
    "\n",
    "> An expresson can only contains identifiers, literals and operators. However, a statement.All expressions need to be evaluated and to reduce to a value, which can be any type of objects in Python.\n",
    "A statement is an instruction that the Python interpreter can execute. We have only seen the assignment statement so far. Some other kinds of statements that we’ll see shortly are `while` statements, `for` statements, `if` statements, and `import` statements. (There are other kinds too!)\n",
    "\n",
    "> An expression is a combination of values, variables, operators, and calls to functions. Expressions need to be evaluated. If you ask Python to `print` an expression, the interpreter evaluates the expression and displays the result.\n",
    "\n",
    "> Expression is a part of statements.\n",
    "\n",
    "> Source: \n",
    "1. [What is the difference between an expression and a statement in Python?](https://stackoverflow.com/questions/4728073/what-is-the-difference-between-an-expression-and-a-statement-in-python) See the top2 answer and the last ansmer.\n",
    "2. [official guide for expressions](https://docs.python.org/zh-cn/3/reference/expressions.html).\n",
    "3. [official guide for statements](https://docs.python.org/3/reference/simple_stmts.html)\n",
    "4. [thinkcspy](https://runestone.academy/runestone/books/published/thinkcspy/SimplePythonData/StatementsandExpressions.html)\n",
    "\n",
    "\n",
    "- 9. What three functions can be used to get the integer, floating-point number, or string version of a value?\n",
    "\n",
    "> `int`,`float` and `str`.\n",
    "\n",
    "- Extra credit: Search online for the Pyton documentation for the `len()` function. It will be on a web page titled \"Built-in Functions.\"Skim the list of ohter functions Python has, look up what the `round` function does, and experiment with it in the interactive shell.\n",
    "\n",
    "> For the built-in types supporting `round()`, values are rounded to the closest multiple of 10 to the power minus __ndigits__; if two multiples are equally close, rounding is done toward the even choice (so, for example, both `round(0.5)` and round`(-0.5)` are `0`, and `round(1.5)` is `2`). Any integer value is valid for __ndigits__ (positive, zero, or negative). The return value is an integer if ndigits is omitted or `None`. Otherwise the return value has the same type as number."
   ]
  },
  {
   "cell_type": "code",
   "execution_count": 99,
   "metadata": {
    "ExecuteTime": {
     "end_time": "2020-01-27T07:17:05.469053Z",
     "start_time": "2020-01-27T07:17:05.465069Z"
    }
   },
   "outputs": [
    {
     "data": {
      "text/plain": [
       "10.01"
      ]
     },
     "execution_count": 99,
     "metadata": {},
     "output_type": "execute_result"
    }
   ],
   "source": [
    "round(10.01457,2)"
   ]
  },
  {
   "cell_type": "code",
   "execution_count": 103,
   "metadata": {
    "ExecuteTime": {
     "end_time": "2020-01-27T07:18:13.103324Z",
     "start_time": "2020-01-27T07:18:13.100321Z"
    }
   },
   "outputs": [
    {
     "data": {
      "text/plain": [
       "10.02"
      ]
     },
     "execution_count": 103,
     "metadata": {},
     "output_type": "execute_result"
    }
   ],
   "source": [
    "# because 10.02 is even and 10.01 is old, round to the even choice when 2 multiples are equally close\n",
    "round(10.015,2)"
   ]
  },
  {
   "cell_type": "code",
   "execution_count": 104,
   "metadata": {
    "ExecuteTime": {
     "end_time": "2020-01-27T07:18:14.787101Z",
     "start_time": "2020-01-27T07:18:14.783140Z"
    }
   },
   "outputs": [
    {
     "data": {
      "text/plain": [
       "140"
      ]
     },
     "execution_count": 104,
     "metadata": {},
     "output_type": "execute_result"
    }
   ],
   "source": [
    "round(145,ndigits= -1)"
   ]
  },
  {
   "cell_type": "markdown",
   "metadata": {},
   "source": [
    "## Flow Control"
   ]
  },
  {
   "cell_type": "markdown",
   "metadata": {
    "ExecuteTime": {
     "end_time": "2020-01-27T07:40:55.727089Z",
     "start_time": "2020-01-27T07:40:55.723101Z"
    }
   },
   "source": [
    "<img src=\"ch2/fig2-1.jpg\" width = 500/>"
   ]
  },
  {
   "cell_type": "markdown",
   "metadata": {},
   "source": [
    "In a flow chart like above ,there is usually more than one way to go from the start to the end. THe same is true for lines of code in a computer program. Flowcharts represent these branching points with diamonds, while the other steps are represented with rectangles.The starting and ending steps are represented with rounded rectangles."
   ]
  },
  {
   "cell_type": "markdown",
   "metadata": {},
   "source": [
    "### __Boolean Values__\n",
    "\n",
    "`True` and `False`\n",
    "\n",
    "### Comparison Operators\n",
    "\n",
    "| Operator |          Meaning         |\n",
    "|:--------:|:------------------------:|\n",
    "|    ==    |         Equal to         |\n",
    "|    !=    |       Not equal to       |\n",
    "|     <    |         Less than        |\n",
    "|     >    |       Greater than       |\n",
    "|    <=    |   Less than or equal to  |\n",
    "|    >=    | Greater than or equal to |"
   ]
  },
  {
   "cell_type": "markdown",
   "metadata": {},
   "source": [
    "### Bollean Operators\n",
    "\n",
    "The three Boolean operators(and, or and not) are used to compare Boolean values. Like comparasion operators, they evaluate these expressions down to a Boolean value."
   ]
  },
  {
   "cell_type": "markdown",
   "metadata": {
    "ExecuteTime": {
     "end_time": "2020-01-27T08:17:53.447795Z",
     "start_time": "2020-01-27T08:17:53.440814Z"
    }
   },
   "source": [
    "__Binary Boolean Operators__\n",
    "\n",
    "`and`,`or`\n",
    "\n",
    "__The not Operator__\n",
    "\n",
    "`not`"
   ]
  },
  {
   "cell_type": "markdown",
   "metadata": {},
   "source": [
    "`not` can work on other expressions, to achieve some strange functionality. Here is a example to check whether a list is empty:"
   ]
  },
  {
   "cell_type": "code",
   "execution_count": 134,
   "metadata": {
    "ExecuteTime": {
     "end_time": "2020-01-27T08:48:51.346492Z",
     "start_time": "2020-01-27T08:48:51.343525Z"
    }
   },
   "outputs": [
    {
     "name": "stdout",
     "output_type": "stream",
     "text": [
      "1\n"
     ]
    }
   ],
   "source": [
    "a = []\n",
    "if not a:\n",
    "    print(1)"
   ]
  },
  {
   "cell_type": "code",
   "execution_count": 136,
   "metadata": {
    "ExecuteTime": {
     "end_time": "2020-01-27T08:49:33.481505Z",
     "start_time": "2020-01-27T08:49:33.478509Z"
    }
   },
   "outputs": [
    {
     "name": "stdout",
     "output_type": "stream",
     "text": [
      "1\n"
     ]
    }
   ],
   "source": [
    "# equals to write it explicitly\n",
    "if len(a) == 0:\n",
    "    print(1)"
   ]
  },
  {
   "cell_type": "markdown",
   "metadata": {},
   "source": [
    "### Mixing Bolean and comparison Opearators\n",
    "\n",
    "We should notice the order of operators, there is a [operator precedence](https://docs.python.org/3/reference/expressions.html#operator-precedence). Something about [bitwise operators](https://www.geeksforgeeks.org/python-bitwise-operators/)"
   ]
  },
  {
   "cell_type": "code",
   "execution_count": 141,
   "metadata": {
    "ExecuteTime": {
     "end_time": "2020-01-27T09:00:18.029063Z",
     "start_time": "2020-01-27T09:00:18.025073Z"
    }
   },
   "outputs": [
    {
     "data": {
      "text/plain": [
       "True"
      ]
     },
     "execution_count": 141,
     "metadata": {},
     "output_type": "execute_result"
    }
   ],
   "source": [
    "2+2==4 and not 2+2 ==5 and 2*2 ==2+2"
   ]
  },
  {
   "cell_type": "markdown",
   "metadata": {},
   "source": [
    "### Elements of Flow Control"
   ]
  },
  {
   "cell_type": "markdown",
   "metadata": {},
   "source": [
    "1. if Statements\n",
    "2. else Statements\n",
    "3. elif Statements\n",
    "4. while Loop Statements\n",
    "5. break Statements\n",
    "6. continue Statements\n",
    "7. for loops and the range()"
   ]
  },
  {
   "cell_type": "code",
   "execution_count": 143,
   "metadata": {
    "ExecuteTime": {
     "end_time": "2020-01-27T11:14:11.648521Z",
     "start_time": "2020-01-27T11:13:34.633634Z"
    },
    "collapsed": true
   },
   "outputs": [
    {
     "name": "stdout",
     "output_type": "stream",
     "text": [
      "Who are you?\n",
      "Joe\n",
      "Hello, Joe. What is the password?(It is a fish.)\n",
      "a\n",
      "Who are you?\n",
      "a\n",
      "Who are you?\n",
      "a\n",
      "Who are you?\n",
      "a\n",
      "Who are you?\n",
      "Joe\n",
      "Hello, Joe. What is the password?(It is a fish.)\n",
      "swordfish\n",
      "Access granted\n"
     ]
    }
   ],
   "source": [
    "while True:\n",
    "    print('Who are you?')\n",
    "    name = input()\n",
    "    if name != 'Joe':\n",
    "        continue \n",
    "    print('Hello, Joe. What is the password?(It is a fish.)')\n",
    "    password = input()\n",
    "    if password == 'swordfish':\n",
    "        break\n",
    "print('Access granted')"
   ]
  },
  {
   "cell_type": "markdown",
   "metadata": {},
   "source": [
    "### truthy and falsey values\n",
    "\n",
    "There are some values in other data types(not Boolean type) that conditions will consider euivalent to `True` and `False`. When used in conditions, `0`, `0.0` and `''`(empty string) are considered `False`, while all other values are considered `True`. \n",
    "\n",
    "\n",
    "Using truthy and false values can make program more readable and time-saving.\n",
    "\n",
    "For example, looke at the following programe:"
   ]
  },
  {
   "cell_type": "code",
   "execution_count": 146,
   "metadata": {
    "ExecuteTime": {
     "end_time": "2020-01-27T11:22:22.401479Z",
     "start_time": "2020-01-27T11:22:01.703188Z"
    }
   },
   "outputs": [
    {
     "name": "stdout",
     "output_type": "stream",
     "text": [
      "Enter your name:\n",
      "1\n",
      "How many guests will you have?\n",
      "12\n",
      "Be sure to have enough room for all your guests.\n",
      "Done\n"
     ]
    }
   ],
   "source": [
    "name = '' \n",
    "while not name:\n",
    "    print('Enter your name:')\n",
    "    name = input()\n",
    "print('How many guests will you have?')\n",
    "numOfGuests = int(input())\n",
    "if numOfGuests:\n",
    "    print('Be sure to have enough room for all your guests.')\n",
    "print('Done')"
   ]
  },
  {
   "cell_type": "markdown",
   "metadata": {},
   "source": [
    "### Equivalent of for and while loop\n",
    "\n",
    "We can write equivalent for loop and while loop."
   ]
  },
  {
   "cell_type": "code",
   "execution_count": 149,
   "metadata": {
    "ExecuteTime": {
     "end_time": "2020-01-27T11:26:50.865544Z",
     "start_time": "2020-01-27T11:26:50.862519Z"
    }
   },
   "outputs": [
    {
     "name": "stdout",
     "output_type": "stream",
     "text": [
      "0\n",
      "1\n",
      "2\n",
      "3\n",
      "4\n"
     ]
    }
   ],
   "source": [
    "for i in range(5):\n",
    "    print(i)"
   ]
  },
  {
   "cell_type": "code",
   "execution_count": 150,
   "metadata": {
    "ExecuteTime": {
     "end_time": "2020-01-27T11:26:54.572258Z",
     "start_time": "2020-01-27T11:26:54.568269Z"
    }
   },
   "outputs": [
    {
     "name": "stdout",
     "output_type": "stream",
     "text": [
      "0\n",
      "1\n",
      "2\n",
      "3\n",
      "4\n",
      "5\n"
     ]
    }
   ],
   "source": [
    "i = 0\n",
    "while i <= 5:\n",
    "    print(i)\n",
    "    i += 1"
   ]
  },
  {
   "cell_type": "markdown",
   "metadata": {},
   "source": [
    "### Import Modules\n",
    "\n",
    "All Python programs can call a basic set of functions called _built-in functions_, cincluding the print(), input(), and len() functions you've seen before. Python also comes with a set of modules called the _standard library_. Each module is a Python program that contains a related group of functions that can be embedded in your programs. For example, the math module has mathematics-related functions, the random model has random number-related functions, and so on.\n",
    "\n",
    "Befor you can use the functions in a module, you must import the module with an `import` statement. In code, an `import` statement consists of the following:\n",
    "- The `import` keyword\n",
    "- The name of the module\n",
    "- Optionally, more module namse as long as they are separated by commas"
   ]
  },
  {
   "cell_type": "code",
   "execution_count": 169,
   "metadata": {
    "ExecuteTime": {
     "end_time": "2020-01-27T11:40:03.034805Z",
     "start_time": "2020-01-27T11:40:03.030814Z"
    }
   },
   "outputs": [
    {
     "name": "stdout",
     "output_type": "stream",
     "text": [
      "3\n",
      "10\n",
      "2\n",
      "5\n",
      "2\n"
     ]
    }
   ],
   "source": [
    "import random\n",
    "random.seed(1)\n",
    "for i in range(5):\n",
    "    print(random.randint(1,10))"
   ]
  },
  {
   "cell_type": "code",
   "execution_count": 170,
   "metadata": {
    "ExecuteTime": {
     "end_time": "2020-01-27T11:40:11.914602Z",
     "start_time": "2020-01-27T11:40:11.911611Z"
    }
   },
   "outputs": [],
   "source": [
    "import random,sys,os,math"
   ]
  },
  {
   "cell_type": "markdown",
   "metadata": {},
   "source": [
    "__from import Statements__"
   ]
  },
  {
   "cell_type": "code",
   "execution_count": 172,
   "metadata": {
    "ExecuteTime": {
     "end_time": "2020-01-27T11:40:56.996023Z",
     "start_time": "2020-01-27T11:40:56.991037Z"
    }
   },
   "outputs": [
    {
     "data": {
      "text/plain": [
       "2"
      ]
     },
     "execution_count": 172,
     "metadata": {},
     "output_type": "execute_result"
    }
   ],
   "source": [
    "from random import *\n",
    "randint(1,2)"
   ]
  },
  {
   "cell_type": "markdown",
   "metadata": {},
   "source": [
    "### Ending a Program Early with `sys.exit()`"
   ]
  },
  {
   "cell_type": "markdown",
   "metadata": {},
   "source": [
    "THe last flow control concept to cover is how to terminate the program. This always happens if the program execution reaches the bottom of the instructions. However, you can cause the program to terminate, or exit, by calling the `sys.exit()` function. "
   ]
  },
  {
   "cell_type": "code",
   "execution_count": 177,
   "metadata": {
    "ExecuteTime": {
     "end_time": "2020-01-27T11:55:14.488235Z",
     "start_time": "2020-01-27T11:55:10.103574Z"
    }
   },
   "outputs": [
    {
     "name": "stdout",
     "output_type": "stream",
     "text": [
      "Type exit to exit.\n",
      "1\n",
      "your typed 1.\n",
      "Type exit to exit.\n",
      "2\n",
      "your typed 2.\n",
      "Type exit to exit.\n",
      "3\n",
      "your typed 3.\n",
      "Type exit to exit.\n",
      "4\n",
      "your typed 4.\n",
      "Type exit to exit.\n",
      "5\n",
      "your typed 5.\n",
      "Type exit to exit.\n",
      "exit\n"
     ]
    },
    {
     "ename": "SystemExit",
     "evalue": "[1234]",
     "output_type": "error",
     "traceback": [
      "An exception has occurred, use %tb to see the full traceback.\n",
      "\u001b[1;31mSystemExit\u001b[0m\u001b[1;31m:\u001b[0m [1234]\n"
     ]
    }
   ],
   "source": [
    "import sys\n",
    "\n",
    "while True:\n",
    "    print('Type exit to exit.')\n",
    "    response = input()\n",
    "    if response == 'exit':\n",
    "        sys.exit([1234]) # can take a status, always raise a SystemExit Error\n",
    "    print('your typed '+ response + '.')"
   ]
  },
  {
   "cell_type": "markdown",
   "metadata": {
    "ExecuteTime": {
     "end_time": "2020-01-27T12:19:53.234492Z",
     "start_time": "2020-01-27T12:19:53.230502Z"
    }
   },
   "source": [
    "### Practice Questions\n",
    "\n",
    "- 6. What is the difference between the equal to operator and the assignment opearator?\n",
    "> The == operator(equal to) askes whether two values are the same as each other. The = operator(assignment operator) puts the value of right into the variable on the left.To help remember which is which, notice that the == operator (equal to)\n",
    "consists of two characters, just like the != operator (not equal to) consists of\n",
    "two characters.\n",
    "\n",
    "- 7. Explain what a conditon is and where you would use one.\n",
    "> Conditon is an expression to be reduced to a Boolean value, which helps us choose what to do in a flow control.\n",
    "\n"
   ]
  },
  {
   "cell_type": "markdown",
   "metadata": {},
   "source": [
    "## Functions"
   ]
  },
  {
   "cell_type": "code",
   "execution_count": 13,
   "metadata": {
    "ExecuteTime": {
     "end_time": "2020-01-30T09:15:03.951765Z",
     "start_time": "2020-01-30T09:15:03.943788Z"
    }
   },
   "outputs": [
    {
     "ename": "UnboundLocalError",
     "evalue": "local variable 'eggs' referenced before assignment",
     "output_type": "error",
     "traceback": [
      "\u001b[1;31m---------------------------------------------------------------------------\u001b[0m",
      "\u001b[1;31mUnboundLocalError\u001b[0m                         Traceback (most recent call last)",
      "\u001b[1;32m<ipython-input-13-f3310ae8ebf4>\u001b[0m in \u001b[0;36m<module>\u001b[1;34m\u001b[0m\n\u001b[0;32m      4\u001b[0m \u001b[1;33m\u001b[0m\u001b[0m\n\u001b[0;32m      5\u001b[0m \u001b[0meggs\u001b[0m \u001b[1;33m=\u001b[0m \u001b[1;34m'global'\u001b[0m\u001b[1;33m\u001b[0m\u001b[1;33m\u001b[0m\u001b[0m\n\u001b[1;32m----> 6\u001b[1;33m \u001b[0mspam\u001b[0m\u001b[1;33m(\u001b[0m\u001b[1;33m)\u001b[0m\u001b[1;33m\u001b[0m\u001b[1;33m\u001b[0m\u001b[0m\n\u001b[0m",
      "\u001b[1;32m<ipython-input-13-f3310ae8ebf4>\u001b[0m in \u001b[0;36mspam\u001b[1;34m()\u001b[0m\n\u001b[0;32m      1\u001b[0m \u001b[1;32mdef\u001b[0m \u001b[0mspam\u001b[0m\u001b[1;33m(\u001b[0m\u001b[1;33m)\u001b[0m\u001b[1;33m:\u001b[0m\u001b[1;33m\u001b[0m\u001b[1;33m\u001b[0m\u001b[0m\n\u001b[1;32m----> 2\u001b[1;33m     \u001b[0mprint\u001b[0m\u001b[1;33m(\u001b[0m\u001b[0meggs\u001b[0m\u001b[1;33m)\u001b[0m\u001b[1;33m\u001b[0m\u001b[1;33m\u001b[0m\u001b[0m\n\u001b[0m\u001b[0;32m      3\u001b[0m     \u001b[0meggs\u001b[0m \u001b[1;33m=\u001b[0m \u001b[1;34m'local'\u001b[0m\u001b[1;33m\u001b[0m\u001b[1;33m\u001b[0m\u001b[0m\n\u001b[0;32m      4\u001b[0m \u001b[1;33m\u001b[0m\u001b[0m\n\u001b[0;32m      5\u001b[0m \u001b[0meggs\u001b[0m \u001b[1;33m=\u001b[0m \u001b[1;34m'global'\u001b[0m\u001b[1;33m\u001b[0m\u001b[1;33m\u001b[0m\u001b[0m\n",
      "\u001b[1;31mUnboundLocalError\u001b[0m: local variable 'eggs' referenced before assignment"
     ]
    }
   ],
   "source": [
    "def spam():\n",
    "    print(eggs)\n",
    "    eggs = 'local'\n",
    "\n",
    "eggs = 'global'\n",
    "spam()"
   ]
  },
  {
   "cell_type": "markdown",
   "metadata": {},
   "source": [
    "## Lists"
   ]
  },
  {
   "cell_type": "markdown",
   "metadata": {},
   "source": [
    "## Dictionaries and structuring data"
   ]
  },
  {
   "cell_type": "code",
   "execution_count": 5,
   "metadata": {
    "ExecuteTime": {
     "end_time": "2020-01-31T08:23:45.461041Z",
     "start_time": "2020-01-31T08:23:45.458049Z"
    }
   },
   "outputs": [],
   "source": [
    "eggs = [1,2,3]\n",
    "eggs2 = eggs.copy()"
   ]
  },
  {
   "cell_type": "code",
   "execution_count": 6,
   "metadata": {
    "ExecuteTime": {
     "end_time": "2020-01-31T08:23:46.093312Z",
     "start_time": "2020-01-31T08:23:46.090310Z"
    }
   },
   "outputs": [],
   "source": [
    "eggs2[0] = '1'"
   ]
  },
  {
   "cell_type": "code",
   "execution_count": 7,
   "metadata": {
    "ExecuteTime": {
     "end_time": "2020-01-31T08:23:46.653401Z",
     "start_time": "2020-01-31T08:23:46.650406Z"
    }
   },
   "outputs": [
    {
     "data": {
      "text/plain": [
       "(['1', 2, 3], [1, 2, 3])"
      ]
     },
     "execution_count": 7,
     "metadata": {},
     "output_type": "execute_result"
    }
   ],
   "source": [
    "eggs2,eggs"
   ]
  },
  {
   "cell_type": "code",
   "execution_count": 9,
   "metadata": {
    "ExecuteTime": {
     "end_time": "2020-01-31T08:38:48.990730Z",
     "start_time": "2020-01-31T08:38:48.986764Z"
    }
   },
   "outputs": [
    {
     "data": {
      "text/plain": [
       "(2160054314056, 2160055178632)"
      ]
     },
     "execution_count": 9,
     "metadata": {},
     "output_type": "execute_result"
    }
   ],
   "source": [
    "id(eggs),id(eggs2)"
   ]
  },
  {
   "cell_type": "code",
   "execution_count": 27,
   "metadata": {
    "ExecuteTime": {
     "end_time": "2020-01-31T09:08:21.830987Z",
     "start_time": "2020-01-31T09:08:21.825998Z"
    }
   },
   "outputs": [
    {
     "data": {
      "text/plain": [
       "([1, 2, [3, 'missing', ['inner_missing', [10, 2, 3]]]],\n",
       " [1, 2, [3, 2, ['inner1', [1, 2, 3]]]])"
      ]
     },
     "execution_count": 27,
     "metadata": {},
     "output_type": "execute_result"
    }
   ],
   "source": [
    "import copy\n",
    "m_3 = [1,2,3]\n",
    "m_2 = ['inner1',m_3]\n",
    "m_1 = [3,2,m_2]\n",
    "eggs = [1,2,m_1]\n",
    "eggs2 = copy.deepcopy(eggs)\n",
    "m_3[0] = 10\n",
    "m_2[0] = 'inner_missing'\n",
    "m_1[1] = 'missing'\n",
    "eggs,eggs2"
   ]
  },
  {
   "cell_type": "code",
   "execution_count": 23,
   "metadata": {
    "ExecuteTime": {
     "end_time": "2020-01-31T08:44:24.517768Z",
     "start_time": "2020-01-31T08:44:24.514742Z"
    }
   },
   "outputs": [
    {
     "data": {
      "text/plain": [
       "['inner_missing', 'inner2']"
      ]
     },
     "execution_count": 23,
     "metadata": {},
     "output_type": "execute_result"
    }
   ],
   "source": [
    "m_2"
   ]
  },
  {
   "cell_type": "code",
   "execution_count": 29,
   "metadata": {
    "ExecuteTime": {
     "end_time": "2020-01-31T09:14:33.373932Z",
     "start_time": "2020-01-31T09:14:33.369915Z"
    }
   },
   "outputs": [
    {
     "data": {
      "text/plain": [
       "array([3, 8, 5, 5, 4, 7, 8, 2, 5, 1, 8, 6, 7, 1, 4, 1, 5, 6, 7, 3, 2, 9,\n",
       "       7, 1, 1, 8, 5, 4, 1, 9, 5, 0, 1, 6, 3, 5, 2, 1, 5, 5, 9, 9, 7, 9,\n",
       "       7, 5, 7, 6, 9, 4, 8, 6, 5, 0, 2, 5, 6, 8, 8, 1, 7, 3, 3, 6, 0, 8,\n",
       "       6, 9, 4, 4, 8, 1, 9, 7, 2, 5, 6, 6, 8, 8, 3, 4, 7, 0, 0, 7, 2, 8,\n",
       "       8, 3, 0, 9, 3, 5, 9, 5, 6, 6, 9, 5])"
      ]
     },
     "execution_count": 29,
     "metadata": {},
     "output_type": "execute_result"
    }
   ],
   "source": [
    "list_random = np.random.randint(0,10,100)\n",
    "list_random"
   ]
  },
  {
   "cell_type": "code",
   "execution_count": 58,
   "metadata": {
    "ExecuteTime": {
     "end_time": "2020-01-31T09:20:24.518305Z",
     "start_time": "2020-01-31T09:20:22.953489Z"
    }
   },
   "outputs": [
    {
     "name": "stdout",
     "output_type": "stream",
     "text": [
      "19.1 µs ± 708 ns per loop (mean ± std. dev. of 7 runs, 10000 loops each)\n"
     ]
    }
   ],
   "source": [
    "%%timeit\n",
    "[i for i, element in enumerate(list_random) if element == 1]"
   ]
  },
  {
   "cell_type": "code",
   "execution_count": 60,
   "metadata": {
    "ExecuteTime": {
     "end_time": "2020-01-31T09:20:41.771992Z",
     "start_time": "2020-01-31T09:20:40.144317Z"
    }
   },
   "outputs": [
    {
     "name": "stdout",
     "output_type": "stream",
     "text": [
      "20 µs ± 128 ns per loop (mean ± std. dev. of 7 runs, 10000 loops each)\n"
     ]
    }
   ],
   "source": [
    "%%timeit\n",
    "g = (i for i, element in enumerate(list_random) if element == 1)\n",
    "list(g)"
   ]
  },
  {
   "cell_type": "code",
   "execution_count": 189,
   "metadata": {
    "ExecuteTime": {
     "end_time": "2020-01-31T11:34:10.553053Z",
     "start_time": "2020-01-31T11:34:10.550034Z"
    }
   },
   "outputs": [],
   "source": [
    "list_random = np.random.randint(0,10000,10000)"
   ]
  },
  {
   "cell_type": "code",
   "execution_count": 190,
   "metadata": {
    "ExecuteTime": {
     "end_time": "2020-01-31T11:34:26.276708Z",
     "start_time": "2020-01-31T11:34:11.190907Z"
    }
   },
   "outputs": [
    {
     "name": "stdout",
     "output_type": "stream",
     "text": [
      "1.86 ms ± 1.53 µs per loop (mean ± std. dev. of 7 runs, 1000 loops each)\n"
     ]
    }
   ],
   "source": [
    "%%timeit\n",
    "[i for i, element in enumerate(list_random) if element == 1]"
   ]
  },
  {
   "cell_type": "code",
   "execution_count": 191,
   "metadata": {
    "ExecuteTime": {
     "end_time": "2020-01-31T11:34:42.376683Z",
     "start_time": "2020-01-31T11:34:26.286682Z"
    }
   },
   "outputs": [
    {
     "name": "stdout",
     "output_type": "stream",
     "text": [
      "1.98 ms ± 3.24 µs per loop (mean ± std. dev. of 7 runs, 1000 loops each)\n"
     ]
    }
   ],
   "source": [
    "%%timeit\n",
    "g = (i for i, element in enumerate(list_random) if element == 1)\n",
    "list(g)"
   ]
  },
  {
   "cell_type": "code",
   "execution_count": 192,
   "metadata": {
    "ExecuteTime": {
     "end_time": "2020-01-31T11:34:54.537041Z",
     "start_time": "2020-01-31T11:34:42.385632Z"
    }
   },
   "outputs": [
    {
     "name": "stdout",
     "output_type": "stream",
     "text": [
      "1.5 ms ± 7.29 µs per loop (mean ± std. dev. of 7 runs, 1000 loops each)\n"
     ]
    }
   ],
   "source": [
    "%%timeit\n",
    "get_indices(list(list_random),1)"
   ]
  },
  {
   "cell_type": "code",
   "execution_count": 176,
   "metadata": {
    "ExecuteTime": {
     "end_time": "2020-01-31T11:12:25.237476Z",
     "start_time": "2020-01-31T11:12:25.232514Z"
    }
   },
   "outputs": [],
   "source": [
    "# https://stackoverflow.com/questions/6294179/how-to-find-all-occurrences-of-an-element-in-a-list\n",
    "def get_indices(x: list, value: int) -> list:\n",
    "    indices = list()\n",
    "    i = 0\n",
    "    while True:\n",
    "        try:\n",
    "            # find an occurrence of value and update i to that index\n",
    "            i = x.index(value, i)\n",
    "            # add i to the list\n",
    "            indices.append(i)\n",
    "            # advance i by 1\n",
    "            i += 1\n",
    "        except ValueError as e:\n",
    "            break\n",
    "    return indices"
   ]
  },
  {
   "cell_type": "markdown",
   "metadata": {},
   "source": [
    "## Manipulating strings"
   ]
  },
  {
   "cell_type": "code",
   "execution_count": 11,
   "metadata": {
    "ExecuteTime": {
     "end_time": "2020-01-31T15:13:10.503226Z",
     "start_time": "2020-01-31T15:13:10.499260Z"
    }
   },
   "outputs": [],
   "source": [
    "def comma_code(x):\n",
    "    x[-1] = 'and ' + str(x[-1])\n",
    "    res = ''\n",
    "    for i in x:\n",
    "        res += str(i) + ', '\n",
    "\n",
    "    return res[:-2]"
   ]
  },
  {
   "cell_type": "code",
   "execution_count": 14,
   "metadata": {
    "ExecuteTime": {
     "end_time": "2020-01-31T15:22:42.806339Z",
     "start_time": "2020-01-31T15:22:42.801351Z"
    }
   },
   "outputs": [],
   "source": [
    "grid = [['.', '.', '.', '.', '.', '.'], ['.', 'O', 'O', '.', '.', '.'],\n",
    "        ['O', 'O', 'O', 'O', '.', '.'], ['O', 'O', 'O', 'O', 'O', '.'],\n",
    "        ['.', 'O', 'O', 'O', 'O', 'O'], ['O', 'O', 'O', 'O', 'O', '.'],\n",
    "        ['O', 'O', 'O', 'O', '.', '.'], ['.', 'O', 'O', '.', '.', '.'],\n",
    "        ['.', '.', '.', '.', '.', '.']]"
   ]
  },
  {
   "cell_type": "code",
   "execution_count": 28,
   "metadata": {
    "ExecuteTime": {
     "end_time": "2020-01-31T15:27:10.462565Z",
     "start_time": "2020-01-31T15:27:10.459565Z"
    }
   },
   "outputs": [],
   "source": [
    "nrow = len(grid)\n",
    "ncol = len(grid[0])"
   ]
  },
  {
   "cell_type": "code",
   "execution_count": 29,
   "metadata": {
    "ExecuteTime": {
     "end_time": "2020-01-31T15:27:11.173841Z",
     "start_time": "2020-01-31T15:27:11.170824Z"
    }
   },
   "outputs": [
    {
     "name": "stdout",
     "output_type": "stream",
     "text": [
      "..OO.OO..\n",
      ".OOOOOOO.\n",
      ".OOOOOOO.\n",
      "..OOOOO..\n",
      "...OOO...\n",
      "....O....\n"
     ]
    }
   ],
   "source": [
    "for i in range(ncol):\n",
    "    for j in range(nrow):\n",
    "        print(grid[8-j][i],sep = '',end = '')\n",
    "    print('\\n',end = '')"
   ]
  },
  {
   "cell_type": "code",
   "execution_count": null,
   "metadata": {},
   "outputs": [],
   "source": []
  },
  {
   "cell_type": "code",
   "execution_count": null,
   "metadata": {},
   "outputs": [],
   "source": []
  },
  {
   "cell_type": "code",
   "execution_count": null,
   "metadata": {},
   "outputs": [],
   "source": []
  },
  {
   "cell_type": "code",
   "execution_count": null,
   "metadata": {},
   "outputs": [],
   "source": []
  },
  {
   "cell_type": "code",
   "execution_count": null,
   "metadata": {},
   "outputs": [],
   "source": []
  },
  {
   "cell_type": "code",
   "execution_count": null,
   "metadata": {},
   "outputs": [],
   "source": []
  }
 ],
 "metadata": {
  "kernelspec": {
   "display_name": "Python 3",
   "language": "python",
   "name": "python3"
  },
  "language_info": {
   "codemirror_mode": {
    "name": "ipython",
    "version": 3
   },
   "file_extension": ".py",
   "mimetype": "text/x-python",
   "name": "python",
   "nbconvert_exporter": "python",
   "pygments_lexer": "ipython3",
   "version": "3.7.1"
  },
  "toc": {
   "base_numbering": 1,
   "nav_menu": {},
   "number_sections": true,
   "sideBar": true,
   "skip_h1_title": false,
   "title_cell": "Table of Contents",
   "title_sidebar": "Contents",
   "toc_cell": false,
   "toc_position": {},
   "toc_section_display": true,
   "toc_window_display": true
  },
  "varInspector": {
   "cols": {
    "lenName": 16,
    "lenType": 16,
    "lenVar": 40
   },
   "kernels_config": {
    "python": {
     "delete_cmd_postfix": "",
     "delete_cmd_prefix": "del ",
     "library": "var_list.py",
     "varRefreshCmd": "print(var_dic_list())"
    },
    "r": {
     "delete_cmd_postfix": ") ",
     "delete_cmd_prefix": "rm(",
     "library": "var_list.r",
     "varRefreshCmd": "cat(var_dic_list()) "
    }
   },
   "types_to_exclude": [
    "module",
    "function",
    "builtin_function_or_method",
    "instance",
    "_Feature"
   ],
   "window_display": false
  }
 },
 "nbformat": 4,
 "nbformat_minor": 2
}
